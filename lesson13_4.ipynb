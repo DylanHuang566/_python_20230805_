{
 "cells": [
  {
   "cell_type": "code",
   "execution_count": 18,
   "metadata": {},
   "outputs": [
    {
     "data": {
      "text/plain": [
       "學生1     340\n",
       "學生2     393\n",
       "學生3     318\n",
       "學生4     347\n",
       "學生5     342\n",
       "學生6     365\n",
       "學生7     368\n",
       "學生8     398\n",
       "學生9     333\n",
       "學生10    304\n",
       "dtype: int64"
      ]
     },
     "metadata": {},
     "output_type": "display_data"
    },
    {
     "data": {
      "text/plain": [
       "array([240, 293, 218, 247, 242, 265, 268, 298, 233, 204])"
      ]
     },
     "metadata": {},
     "output_type": "display_data"
    },
    {
     "data": {
      "text/plain": [
       "Index(['學生1', '學生2', '學生3', '學生4', '學生5', '學生6', '學生7', '學生8', '學生9', '學生10'], dtype='object')"
      ]
     },
     "metadata": {},
     "output_type": "display_data"
    }
   ],
   "source": [
    "# import numpy as np\n",
    "# np.random.randint(50,100,size=(5,10))\n",
    "\n",
    "import numpy as np\n",
    "import pandas as pd\n",
    "n1 = np.random.randint(200,300,size=(10,))\n",
    "s1 = pd.Series(data=n1,index=[f\"學生{i+1}\"for i in range(10)])\n",
    "display(s1+100)\n",
    "display(s1.values)\n",
    "display(s1.index)"
   ]
  }
 ],
 "metadata": {
  "kernelspec": {
   "display_name": "Python 3",
   "language": "python",
   "name": "python3"
  },
  "language_info": {
   "codemirror_mode": {
    "name": "ipython",
    "version": 3
   },
   "file_extension": ".py",
   "mimetype": "text/x-python",
   "name": "python",
   "nbconvert_exporter": "python",
   "pygments_lexer": "ipython3",
   "version": "3.10.8"
  },
  "orig_nbformat": 4
 },
 "nbformat": 4,
 "nbformat_minor": 2
}
